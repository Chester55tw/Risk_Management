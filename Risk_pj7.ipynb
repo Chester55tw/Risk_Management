{
  "nbformat": 4,
  "nbformat_minor": 0,
  "metadata": {
    "colab": {
      "provenance": []
    },
    "kernelspec": {
      "name": "python3",
      "display_name": "Python 3"
    },
    "language_info": {
      "name": "python"
    }
  },
  "cells": [
    {
      "cell_type": "code",
      "execution_count": 1,
      "metadata": {
        "colab": {
          "base_uri": "https://localhost:8080/"
        },
        "id": "143esQm5tB2K",
        "outputId": "27e6da2d-06f3-43eb-a43d-af34bbc7d592"
      },
      "outputs": [
        {
          "output_type": "stream",
          "name": "stdout",
          "text": [
            "Maturity: 3 years, CDS Spread: 50.0 bp, Hazard Rate: 0.0125\n",
            "Maturity: 5 years, CDS Spread: 60.0 bp, Hazard Rate: 0.015\n",
            "Maturity: 10 years, CDS Spread: 100.0 bp, Hazard Rate: 0.024999999999999994\n"
          ]
        }
      ],
      "source": [
        "import numpy as np\n",
        "from scipy.optimize import fsolve\n",
        "\n",
        "# Constants\n",
        "R = 0.6\n",
        "maturities = np.array([3, 5, 10])  # years\n",
        "cds_spreads = np.array([50, 60, 100]) * 1e-4  # convert from bp to decimal\n",
        "\n",
        "# Function to calculate CDS spread for a given hazard rate\n",
        "def cds_spread(hazard_rate, T, R):\n",
        "    return (1 - R) * (hazard_rate * (1 - np.exp(-hazard_rate * T))) / (1 - np.exp(-hazard_rate * T))\n",
        "\n",
        "# Function to find hazard rate that gives the observed CDS spread\n",
        "def find_hazard_rate(hazard_rate_guess, spread, T, R):\n",
        "    return cds_spread(hazard_rate_guess, T, R) - spread\n",
        "\n",
        "# Initial guess for hazard rates\n",
        "hazard_rate_guess = np.array([0.01, 0.01, 0.01])\n",
        "\n",
        "# Solve for hazard rates\n",
        "hazard_rates = fsolve(find_hazard_rate, hazard_rate_guess, args=(cds_spreads, maturities, R))\n",
        "\n",
        "# Print results\n",
        "for T, spread, hazard_rate in zip(maturities, cds_spreads, hazard_rates):\n",
        "    print(f'Maturity: {T} years, CDS Spread: {spread * 1e4} bp, Hazard Rate: {hazard_rate}')\n"
      ]
    },
    {
      "cell_type": "code",
      "source": [
        "from scipy.integrate import quad\n",
        "\n",
        "# Bond parameters\n",
        "coupon_rate = 0.02  # 2% coupon\n",
        "coupon_frequency = 2  # semi-annual coupons\n",
        "face_value = 100  # face value\n",
        "bond_maturity = 6  # years\n",
        "\n",
        "# Function to interpolate hazard rates\n",
        "def interpolated_hazard_rate(t):\n",
        "    if t <= 3:\n",
        "        return hazard_rates[0]\n",
        "    elif t <= 5:\n",
        "        return hazard_rates[1]\n",
        "    else:\n",
        "        return hazard_rates[2]\n",
        "\n",
        "# Function to integrate for bond pricing\n",
        "def bond_price_integral(t):\n",
        "    return coupon_rate / coupon_frequency * face_value * np.exp(-interpolated_hazard_rate(t) * t)\n",
        "\n",
        "# Calculate present value of coupon payments\n",
        "pv_coupons, _ = quad(bond_price_integral, 0, bond_maturity)\n",
        "\n",
        "# Calculate present value of face value\n",
        "pv_face_value = face_value * np.exp(-interpolated_hazard_rate(bond_maturity) * bond_maturity)\n",
        "\n",
        "# Total bond price is sum of present value of coupons and face value\n",
        "bond_price = pv_coupons + pv_face_value\n",
        "\n",
        "print(f'The price of the bond is: {bond_price}')\n"
      ],
      "metadata": {
        "colab": {
          "base_uri": "https://localhost:8080/"
        },
        "id": "Mh4cTu-c1q1c",
        "outputId": "2fd8e26e-fd02-45eb-91e2-8c4049c03a1f"
      },
      "execution_count": 2,
      "outputs": [
        {
          "output_type": "stream",
          "name": "stdout",
          "text": [
            "The price of the bond is: 91.77040097152468\n"
          ]
        }
      ]
    }
  ]
}