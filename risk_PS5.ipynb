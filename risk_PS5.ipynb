{
  "nbformat": 4,
  "nbformat_minor": 0,
  "metadata": {
    "colab": {
      "provenance": []
    },
    "kernelspec": {
      "name": "python3",
      "display_name": "Python 3"
    },
    "language_info": {
      "name": "python"
    }
  },
  "cells": [
    {
      "cell_type": "code",
      "source": [
        "import numpy as np\n",
        "from scipy.stats import norm"
      ],
      "metadata": {
        "id": "qJlUTd6kI1N7"
      },
      "execution_count": 44,
      "outputs": []
    },
    {
      "cell_type": "code",
      "source": [
        "# Parameters\n",
        "r = 0.0002\n",
        "sigma1 = 0.015\n",
        "sigma2 = 0.015\n",
        "rho = 0.35\n",
        "mu1 = 0.00025\n",
        "mu2 = 0.00025\n",
        "S1 = 99\n",
        "S2 = 101\n",
        "K = 100\n",
        "T = 1  # 1 day\n",
        "q = norm.ppf(0.99)\n",
        "\n",
        "# Calculating delta\n",
        "gamma1 = (np.log(S1 / K) + (r - 0.5 * sigma1**2) * T) / (sigma1 * np.sqrt(T))\n",
        "gamma2 = (np.log(S2 / K) + (r - 0.5 * sigma2**2) * T) / (sigma2 * np.sqrt(T))\n",
        "sigma = np.sqrt(sigma1**2 + sigma2**2 - 2 * rho * sigma1 * sigma2)\n",
        "delta1 = norm.cdf(gamma1)\n",
        "delta2 = norm.cdf(gamma2)\n",
        "\n",
        "# Computing 99% 1-day VaR\n",
        "var = delta1 * sigma1 * S1 * q + delta2 * sigma2 * S2 * q\n",
        "\n",
        "print(\"99% 1-day VaR for the option:\", var)"
      ],
      "metadata": {
        "colab": {
          "base_uri": "https://localhost:8080/"
        },
        "id": "s4sROXDTV6fL",
        "outputId": "62a043b1-4ee9-4bff-856e-561a23d77d87"
      },
      "execution_count": 53,
      "outputs": [
        {
          "output_type": "stream",
          "name": "stdout",
          "text": [
            "99% 1-day VaR for the option: 3.512369060368843\n"
          ]
        }
      ]
    },
    {
      "cell_type": "code",
      "execution_count": 52,
      "metadata": {
        "colab": {
          "base_uri": "https://localhost:8080/"
        },
        "id": "0oJkORYQIr7x",
        "outputId": "dfb2a31f-1d9d-4fc7-ffb3-80042740fc81"
      },
      "outputs": [
        {
          "output_type": "stream",
          "name": "stdout",
          "text": [
            "99% 1-day VaR for the option: 3.898476275237533\n"
          ]
        }
      ],
      "source": [
        "r = 0.0002  # Risk-free rate (daily)\n",
        "sigma1 = sigma2 = 0.015  # Volatility (daily)\n",
        "rho = 0.35  # Correlation coefficient\n",
        "mu1 = mu2 = 0.00025  # Drift (daily)\n",
        "S10 = 99  # Initial price of asset 1\n",
        "S20 = 101  # Initial price of asset 2\n",
        "K = 100  # Strike price\n",
        "T = 0.5  # Time to maturity in years (6 months)\n",
        "N = 1000000  # Number of simulations\n",
        "dt = 1 / 252  # Time step (assuming 252 trading days per year)\n",
        "Z1 = np.random.normal(size=N)\n",
        "Z2 = rho * Z1 + np.sqrt(1 - rho ** 2) * np.random.normal(size=N)\n",
        "dS1 = mu1 * dt + sigma1 * np.sqrt(dt) * Z1\n",
        "dS2 = mu2 * dt + sigma2 * np.sqrt(dt) * Z2\n",
        "S1 = S10 * np.exp(np.cumsum(dS1))\n",
        "S2 = S20 * np.exp(np.cumsum(dS2))\n",
        "payoffs = np.maximum(np.minimum(S1[-1], S2[-1]) - K, 0)\n",
        "VaR = np.percentile(payoffs * np.exp(-r * T), 1)\n",
        "print(\"99% 1-day VaR for the option:\", VaR)"
      ]
    }
  ]
}