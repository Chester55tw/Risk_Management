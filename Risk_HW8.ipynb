{
  "nbformat": 4,
  "nbformat_minor": 0,
  "metadata": {
    "colab": {
      "provenance": []
    },
    "kernelspec": {
      "name": "python3",
      "display_name": "Python 3"
    },
    "language_info": {
      "name": "python"
    }
  },
  "cells": [
    {
      "cell_type": "code",
      "execution_count": 2,
      "metadata": {
        "colab": {
          "base_uri": "https://localhost:8080/"
        },
        "id": "KBlzB5Y0BE-s",
        "outputId": "198f1f32-f807-4274-e6a7-9f3757845389"
      },
      "outputs": [
        {
          "output_type": "stream",
          "name": "stdout",
          "text": [
            "Asset Value A: 17.42865679099064 million\n",
            "Asset Volatility σA: 0.0836232028749384\n",
            "Distance to Default: -2.258210904126053\n",
            "Default Probability: 0.01617941046565268\n",
            "Expected Recovery Rate: 0.013903718953513555\n"
          ]
        }
      ],
      "source": [
        "import numpy as np\n",
        "from scipy.stats import norm\n",
        "from scipy.optimize import fsolve\n",
        "\n",
        "# Inputs\n",
        "E = 4  # equity, in million\n",
        "D = 15  # debt, in million\n",
        "T = 2  # years\n",
        "r = 0.055  # risk-free rate\n",
        "σE = 0.6  # equity volatility\n",
        "\n",
        "# Define equations to be solved\n",
        "def equations(vars):\n",
        "    A, σA = vars\n",
        "    d1 = (np.log(A / D) + (r + 0.5 * σA**2) * T) / (σA * np.sqrt(T))\n",
        "    d2 = d1 - σA * np.sqrt(T)\n",
        "    return (A * norm.cdf(d1) - D * np.exp(-r * T) * norm.cdf(d2) - E,\n",
        "            A * σA * norm.cdf(d1) - σE**2 * E)\n",
        "\n",
        "# Initial guesses for A and σA\n",
        "A_guess = E + D\n",
        "σA_guess = σE\n",
        "\n",
        "# Solve for A and σA\n",
        "A, σA = fsolve(equations, (A_guess, σA_guess))\n",
        "\n",
        "# Calculate d1 and d2 with the values of A and σA\n",
        "d1 = (np.log(A / D) + (r + 0.5 * σA**2) * T) / (σA * np.sqrt(T))\n",
        "d2 = d1 - σA * np.sqrt(T)\n",
        "\n",
        "# Calculate distance to default\n",
        "DD = -d1\n",
        "\n",
        "# Calculate default probability\n",
        "PD = norm.cdf(-d2)\n",
        "\n",
        "# Calculate expected recovery rate\n",
        "ER = (A * norm.cdf(-d1)) / D\n",
        "\n",
        "print(f\"Asset Value A: {A} million\")\n",
        "print(f\"Asset Volatility σA: {σA}\")\n",
        "print(f\"Distance to Default: {DD}\")\n",
        "print(f\"Default Probability: {PD}\")\n",
        "print(f\"Expected Recovery Rate: {ER}\")"
      ]
    }
  ]
}