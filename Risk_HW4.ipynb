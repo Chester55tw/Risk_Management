{
  "nbformat": 4,
  "nbformat_minor": 0,
  "metadata": {
    "colab": {
      "provenance": []
    },
    "kernelspec": {
      "name": "python3",
      "display_name": "Python 3"
    },
    "language_info": {
      "name": "python"
    }
  },
  "cells": [
    {
      "cell_type": "markdown",
      "source": [
        "HW4"
      ],
      "metadata": {
        "id": "RuUluz_P0Fgb"
      }
    },
    {
      "cell_type": "markdown",
      "source": [
        "a"
      ],
      "metadata": {
        "id": "4IeRdXkMIBAr"
      }
    },
    {
      "cell_type": "code",
      "execution_count": 3,
      "metadata": {
        "colab": {
          "base_uri": "https://localhost:8080/"
        },
        "id": "P7JiLYbKzDs9",
        "outputId": "f1ddc28a-bb03-40fc-aa9c-7b8839583c7d"
      },
      "outputs": [
        {
          "output_type": "stream",
          "name": "stdout",
          "text": [
            "Historical VaR: -0.08011061595999999\n",
            "EWMA VaR: Date\n",
            "2015-01-05    0.001782\n",
            "2015-01-06    0.048530\n",
            "2015-01-07    0.049328\n",
            "2015-01-08    0.049213\n",
            "2015-01-09    0.055905\n",
            "                ...   \n",
            "2017-12-13    0.109570\n",
            "2017-12-14    0.109899\n",
            "2017-12-15    0.109987\n",
            "2017-12-18    0.109765\n",
            "2017-12-19    0.109514\n",
            "Name: Return, Length: 747, dtype: float64\n"
          ]
        }
      ],
      "source": [
        "import pandas as pd\n",
        "import numpy as np\n",
        "from scipy.stats import norm\n",
        "\n",
        "\n",
        "# Read the data from the CSV file\n",
        "df = pd.read_csv('hw4_returns.csv')\n",
        "\n",
        "# Convert the \"Date\" column to a datetime format and set it as the index\n",
        "df['Date'] = pd.to_datetime(df['Date'])\n",
        "df.set_index('Date', inplace=True)\n",
        "\n",
        "# Calculate the daily returns\n",
        "df['daily_returns'] = df['Return'].pct_change()\n",
        "\n",
        "# Subset the data to only include the dates from 2015-01-01 to 2017-12-31\n",
        "df = df.loc['2015-01-01':'2017-12-31']\n",
        "\n",
        "# Set lambda value for EWMA calculation\n",
        "lambda_val = 0.995\n",
        "\n",
        "# Compute the historical VaR and the exponential weighted 1-day 99%-VaR\n",
        "historical_var = df['Return'].quantile(0.01)\n",
        "z = norm.ppf(1 - 0.01/252)\n",
        "returns_std = df['Return'].ewm(alpha=1-lambda_val).std()\n",
        "ewma_var = z * returns_std.iloc[1:]\n",
        "\n",
        "# Print the results\n",
        "print(f\"Historical VaR: {historical_var}\")\n",
        "print(f\"EWMA VaR: {ewma_var}\")"
      ]
    },
    {
      "cell_type": "markdown",
      "source": [
        "1b"
      ],
      "metadata": {
        "id": "WEFAdgcg9JDm"
      }
    },
    {
      "cell_type": "code",
      "source": [
        "import pandas as pd\n",
        "import numpy as np\n",
        "from scipy.stats import norm\n",
        "\n",
        "# Load the data\n",
        "df = pd.read_csv('hw4_returns.csv', index_col='Date', parse_dates=['Date'])\n",
        "\n",
        "# Compute historical VaR using weighted historical method for each day in 2015-2017\n",
        "start_date = '2015-01-01'\n",
        "end_date = '2017-12-31'\n",
        "returns = df['Return'].loc[start_date:end_date]\n",
        "VaRexps = []\n",
        "for t in returns.index:\n",
        "    df_now = df.loc[:t].copy()  \n",
        "    lamda = 0.995\n",
        "    n = len(df_now.index)\n",
        "    df_now.loc[:, 'weight'] = lamda**(n - np.linspace(1,n,n))*(1-lamda) /(1-lamda**n)\n",
        "    df_exp = df_now.sort_values('Return')\n",
        "    df_exp['cumweight'] = np.cumsum(df_exp['weight'])\n",
        "    VaRexp = -min(df_exp[(df_exp['cumweight'] >= 0.01)]['Return'])\n",
        "    VaRexps.append(VaRexp)\n",
        "\n",
        "# Convert the list to a DataFrame\n",
        "historical_var_weighted = pd.DataFrame({'VaR': VaRexps}, index=returns.index)\n",
        "\n",
        "# Compute EWMA VaR for each day in 2015-2017\n",
        "lambda_ = 0.995\n",
        "ewma_var = []\n",
        "sigma_t = np.sqrt(np.var(returns[:10]))\n",
        "for r in returns:\n",
        "    sigma_t = np.sqrt(lambda_ * sigma_t**2 + (1 - lambda_) * r**2)\n",
        "    z_099 = norm.ppf(0.01)\n",
        "    ewma_var.append(-sigma_t * z_099)\n",
        "\n",
        "# Convert the lists to a DataFrame\n",
        "historical_var = pd.DataFrame({'VaR': [np.percentile(returns, 1)] * len(ewma_var)}, index=returns.index)\n",
        "ewma_var = pd.DataFrame({'EWMA VaR': ewma_var}, index=returns.index)\n",
        "\n",
        "# Combine the three DataFrames\n",
        "var = pd.concat([historical_var, historical_var_weighted, ewma_var], axis=1)\n",
        "\n",
        "# Backtest the VaR measures\n",
        "exceptions_historical = (returns < -historical_var_weighted['VaR']).sum()\n",
        "exceptions_ewma = (returns < -ewma_var['EWMA VaR']).sum()\n",
        "\n",
        "print(f'Exceptions (historical VaR): {exceptions_historical}')\n",
        "print(f'Exceptions (EWMA VaR): {exceptions_ewma}')\n",
        "\n"
      ],
      "metadata": {
        "colab": {
          "base_uri": "https://localhost:8080/"
        },
        "id": "y5PHiET59H7X",
        "outputId": "29d4d13f-cb8d-4871-fccc-26ca545d9cfd"
      },
      "execution_count": 9,
      "outputs": [
        {
          "output_type": "stream",
          "name": "stdout",
          "text": [
            "Exceptions (historical VaR): 9\n",
            "Exceptions (EWMA VaR): 26\n"
          ]
        }
      ]
    },
    {
      "cell_type": "markdown",
      "source": [
        "1c"
      ],
      "metadata": {
        "id": "yRsBUrhUWf-R"
      }
    },
    {
      "cell_type": "code",
      "source": [
        "import pandas as pd\n",
        "import numpy as np\n",
        "from scipy.stats import norm\n",
        "\n",
        "# Load the data\n",
        "df = pd.read_csv('hw4_returns.csv', index_col='Date', parse_dates=['Date'])\n",
        "\n",
        "# Compute historical VaR using weighted historical method for each day in 2015-2017\n",
        "start_date = '2015-01-01'\n",
        "end_date = '2017-12-31'\n",
        "returns = df['Return'].loc[start_date:end_date]\n",
        "VaRexps = []\n",
        "for t in returns.index:\n",
        "    df_now = df.loc[:t].copy()  \n",
        "    lamda = 0.995\n",
        "    n = len(df_now.index)\n",
        "    df_now.loc[:, 'weight'] = lamda**(n - np.linspace(1,n,n))*(1-lamda) /(1-lamda**n)\n",
        "    df_exp = df_now.sort_values('Return')\n",
        "    df_exp['cumweight'] = np.cumsum(df_exp['weight'])\n",
        "    VaRexp = -min(df_exp[(df_exp['cumweight'] >= 0.01)]['Return'])\n",
        "    VaRexps.append(VaRexp)\n",
        "\n",
        "# Convert the list to a DataFrame\n",
        "historical_var_weighted = pd.DataFrame({'VaR': VaRexps}, index=returns.index)\n",
        "\n",
        "# Compute EWMA VaR for each day in 2015-2017\n",
        "lambda_ = 0.995\n",
        "ewma_var = []\n",
        "sigma_t = np.sqrt(np.var(returns[:10]))\n",
        "for r in returns:\n",
        "    sigma_t = np.sqrt(lambda_ * sigma_t**2 + (1 - lambda_) * r**2)\n",
        "    z_099 = norm.ppf(0.01)\n",
        "    ewma_var.append(-sigma_t * z_099)\n",
        "\n",
        "# Convert the lists to DataFrames\n",
        "historical_var = pd.DataFrame({'VaR': [np.percentile(returns, 1)] * len(ewma_var)}, index=returns.index)\n",
        "ewma_var = pd.DataFrame({'EWMA VaR': ewma_var}, index=returns.index)\n",
        "\n",
        "# Combine the three DataFrames\n",
        "var = pd.concat([historical_var, historical_var_weighted, ewma_var], axis=1)\n",
        "\n",
        "# Compute parametric confidence intervals for historical VaR\n",
        "mu = np.mean(returns)\n",
        "sigma = np.std(returns)\n",
        "z_alpha = norm.ppf(0.05)\n",
        "parametric_ci = pd.DataFrame({'Parametric CI': -mu + z_alpha*sigma}, index=returns.index)\n",
        "\n",
        "# Compute bootstrap confidence intervals for historical VaR and EWMA VaR\n",
        "n_bootstrap = 1000\n",
        "historical_bootstrap_ci = []\n",
        "ewma_bootstrap_ci = []\n",
        "for i in range(n_bootstrap):\n",
        "    # Sample returns with replacement\n",
        "    bootstrap_sample = np.random.choice(returns, size=len(returns), replace=True)\n",
        "    # Compute historical VaR and EWMA VaR for the bootstrap sample\n",
        "    historical_bootstrap_var = np.percentile(bootstrap_sample, 1)\n",
        "    ewma_bootstrap_var = -np.sqrt(np.var(bootstrap_sample[:10])) * norm.ppf(0.01)\n",
        "    for r in bootstrap_sample[10:]:\n",
        "        sigma_t = np.sqrt(lambda_ * sigma_t**2 + (1 - lambda_) * r**2)\n",
        "        z_099 = norm.ppf(0.01)\n",
        "        ewma_bootstrap_var = np.append(ewma_bootstrap_var, -sigma_t * z_099)\n",
        "    # Compute bootstrap confidence intervals for historical VaR and EWMA VaR\n",
        "    historical_bootstrap_ci.append(historical_bootstrap_var)\n",
        "    ewma_bootstrap_ci.append(ewma_bootstrap_var[-1])\n"
      ],
      "metadata": {
        "id": "_jBdgR1eBQV4"
      },
      "execution_count": 12,
      "outputs": []
    },
    {
      "cell_type": "code",
      "source": [
        "print('Historical VaR bootstrap CI:', np.percentile(historical_bootstrap_ci, [2.5, 97.5]))\n",
        "print('EWMA VaR bootstrap CI:', np.percentile(ewma_bootstrap_ci, [2.5, 97.5]))"
      ],
      "metadata": {
        "colab": {
          "base_uri": "https://localhost:8080/"
        },
        "id": "eU-zDqiIFcHf",
        "outputId": "4367e3a4-9d68-4d13-dce4-d490eb6a5ad2"
      },
      "execution_count": 13,
      "outputs": [
        {
          "output_type": "stream",
          "name": "stdout",
          "text": [
            "Historical VaR bootstrap CI: [-0.10550448 -0.06874481]\n",
            "EWMA VaR bootstrap CI: [0.05903264 0.07438903]\n"
          ]
        }
      ]
    },
    {
      "cell_type": "markdown",
      "source": [
        "2a"
      ],
      "metadata": {
        "id": "Pl1aFPiWWohL"
      }
    },
    {
      "cell_type": "code",
      "source": [
        "import pandas as pd\n",
        "import numpy as np\n",
        "from scipy.stats import norm\n",
        "\n",
        "# Load the data\n",
        "df = pd.read_csv('hw4_returns.csv', index_col='Date', parse_dates=['Date'])\n",
        "\n",
        "# Compute EWMA volatility and VaR for each day in 2015-2017\n",
        "lambda_ = 0.94\n",
        "ewma_var = []\n",
        "sigma_t = np.sqrt(np.var(df['Return'].loc[:'2015-01-10']))\n",
        "for r in df['Return'].loc['2015-01-11':'2017-12-31']:\n",
        "    sigma_t = np.sqrt(lambda_ * sigma_t**2 + (1 - lambda_) * r**2)\n",
        "    z_001 = norm.ppf(0.01)\n",
        "    ewma_var.append(-sigma_t * z_001)\n",
        "\n",
        "# Convert the list to a DataFrame\n",
        "ewma_var = pd.DataFrame({'EWMA VaR': ewma_var}, index=df['Return'].loc['2015-01-11':'2017-12-31'].index)\n",
        "ewma_var"
      ],
      "metadata": {
        "colab": {
          "base_uri": "https://localhost:8080/",
          "height": 450
        },
        "id": "Y03_a57lIv8e",
        "outputId": "60d89206-0292-4724-b953-2fe84ff43271"
      },
      "execution_count": 15,
      "outputs": [
        {
          "output_type": "execute_result",
          "data": {
            "text/plain": [
              "            EWMA VaR\n",
              "Date                \n",
              "2015-01-12  0.028680\n",
              "2015-01-13  0.028884\n",
              "2015-01-14  0.028338\n",
              "2015-01-15  0.030626\n",
              "2015-01-16  0.030909\n",
              "...              ...\n",
              "2017-12-13  0.057884\n",
              "2017-12-14  0.060087\n",
              "2017-12-15  0.060534\n",
              "2017-12-18  0.058959\n",
              "2017-12-19  0.057580\n",
              "\n",
              "[742 rows x 1 columns]"
            ],
            "text/html": [
              "\n",
              "  <div id=\"df-e382c198-43d7-4601-8512-d0fab2d2228d\">\n",
              "    <div class=\"colab-df-container\">\n",
              "      <div>\n",
              "<style scoped>\n",
              "    .dataframe tbody tr th:only-of-type {\n",
              "        vertical-align: middle;\n",
              "    }\n",
              "\n",
              "    .dataframe tbody tr th {\n",
              "        vertical-align: top;\n",
              "    }\n",
              "\n",
              "    .dataframe thead th {\n",
              "        text-align: right;\n",
              "    }\n",
              "</style>\n",
              "<table border=\"1\" class=\"dataframe\">\n",
              "  <thead>\n",
              "    <tr style=\"text-align: right;\">\n",
              "      <th></th>\n",
              "      <th>EWMA VaR</th>\n",
              "    </tr>\n",
              "    <tr>\n",
              "      <th>Date</th>\n",
              "      <th></th>\n",
              "    </tr>\n",
              "  </thead>\n",
              "  <tbody>\n",
              "    <tr>\n",
              "      <th>2015-01-12</th>\n",
              "      <td>0.028680</td>\n",
              "    </tr>\n",
              "    <tr>\n",
              "      <th>2015-01-13</th>\n",
              "      <td>0.028884</td>\n",
              "    </tr>\n",
              "    <tr>\n",
              "      <th>2015-01-14</th>\n",
              "      <td>0.028338</td>\n",
              "    </tr>\n",
              "    <tr>\n",
              "      <th>2015-01-15</th>\n",
              "      <td>0.030626</td>\n",
              "    </tr>\n",
              "    <tr>\n",
              "      <th>2015-01-16</th>\n",
              "      <td>0.030909</td>\n",
              "    </tr>\n",
              "    <tr>\n",
              "      <th>...</th>\n",
              "      <td>...</td>\n",
              "    </tr>\n",
              "    <tr>\n",
              "      <th>2017-12-13</th>\n",
              "      <td>0.057884</td>\n",
              "    </tr>\n",
              "    <tr>\n",
              "      <th>2017-12-14</th>\n",
              "      <td>0.060087</td>\n",
              "    </tr>\n",
              "    <tr>\n",
              "      <th>2017-12-15</th>\n",
              "      <td>0.060534</td>\n",
              "    </tr>\n",
              "    <tr>\n",
              "      <th>2017-12-18</th>\n",
              "      <td>0.058959</td>\n",
              "    </tr>\n",
              "    <tr>\n",
              "      <th>2017-12-19</th>\n",
              "      <td>0.057580</td>\n",
              "    </tr>\n",
              "  </tbody>\n",
              "</table>\n",
              "<p>742 rows × 1 columns</p>\n",
              "</div>\n",
              "      <button class=\"colab-df-convert\" onclick=\"convertToInteractive('df-e382c198-43d7-4601-8512-d0fab2d2228d')\"\n",
              "              title=\"Convert this dataframe to an interactive table.\"\n",
              "              style=\"display:none;\">\n",
              "        \n",
              "  <svg xmlns=\"http://www.w3.org/2000/svg\" height=\"24px\"viewBox=\"0 0 24 24\"\n",
              "       width=\"24px\">\n",
              "    <path d=\"M0 0h24v24H0V0z\" fill=\"none\"/>\n",
              "    <path d=\"M18.56 5.44l.94 2.06.94-2.06 2.06-.94-2.06-.94-.94-2.06-.94 2.06-2.06.94zm-11 1L8.5 8.5l.94-2.06 2.06-.94-2.06-.94L8.5 2.5l-.94 2.06-2.06.94zm10 10l.94 2.06.94-2.06 2.06-.94-2.06-.94-.94-2.06-.94 2.06-2.06.94z\"/><path d=\"M17.41 7.96l-1.37-1.37c-.4-.4-.92-.59-1.43-.59-.52 0-1.04.2-1.43.59L10.3 9.45l-7.72 7.72c-.78.78-.78 2.05 0 2.83L4 21.41c.39.39.9.59 1.41.59.51 0 1.02-.2 1.41-.59l7.78-7.78 2.81-2.81c.8-.78.8-2.07 0-2.86zM5.41 20L4 18.59l7.72-7.72 1.47 1.35L5.41 20z\"/>\n",
              "  </svg>\n",
              "      </button>\n",
              "      \n",
              "  <style>\n",
              "    .colab-df-container {\n",
              "      display:flex;\n",
              "      flex-wrap:wrap;\n",
              "      gap: 12px;\n",
              "    }\n",
              "\n",
              "    .colab-df-convert {\n",
              "      background-color: #E8F0FE;\n",
              "      border: none;\n",
              "      border-radius: 50%;\n",
              "      cursor: pointer;\n",
              "      display: none;\n",
              "      fill: #1967D2;\n",
              "      height: 32px;\n",
              "      padding: 0 0 0 0;\n",
              "      width: 32px;\n",
              "    }\n",
              "\n",
              "    .colab-df-convert:hover {\n",
              "      background-color: #E2EBFA;\n",
              "      box-shadow: 0px 1px 2px rgba(60, 64, 67, 0.3), 0px 1px 3px 1px rgba(60, 64, 67, 0.15);\n",
              "      fill: #174EA6;\n",
              "    }\n",
              "\n",
              "    [theme=dark] .colab-df-convert {\n",
              "      background-color: #3B4455;\n",
              "      fill: #D2E3FC;\n",
              "    }\n",
              "\n",
              "    [theme=dark] .colab-df-convert:hover {\n",
              "      background-color: #434B5C;\n",
              "      box-shadow: 0px 1px 3px 1px rgba(0, 0, 0, 0.15);\n",
              "      filter: drop-shadow(0px 1px 2px rgba(0, 0, 0, 0.3));\n",
              "      fill: #FFFFFF;\n",
              "    }\n",
              "  </style>\n",
              "\n",
              "      <script>\n",
              "        const buttonEl =\n",
              "          document.querySelector('#df-e382c198-43d7-4601-8512-d0fab2d2228d button.colab-df-convert');\n",
              "        buttonEl.style.display =\n",
              "          google.colab.kernel.accessAllowed ? 'block' : 'none';\n",
              "\n",
              "        async function convertToInteractive(key) {\n",
              "          const element = document.querySelector('#df-e382c198-43d7-4601-8512-d0fab2d2228d');\n",
              "          const dataTable =\n",
              "            await google.colab.kernel.invokeFunction('convertToInteractive',\n",
              "                                                     [key], {});\n",
              "          if (!dataTable) return;\n",
              "\n",
              "          const docLinkHtml = 'Like what you see? Visit the ' +\n",
              "            '<a target=\"_blank\" href=https://colab.research.google.com/notebooks/data_table.ipynb>data table notebook</a>'\n",
              "            + ' to learn more about interactive tables.';\n",
              "          element.innerHTML = '';\n",
              "          dataTable['output_type'] = 'display_data';\n",
              "          await google.colab.output.renderOutput(dataTable, element);\n",
              "          const docLink = document.createElement('div');\n",
              "          docLink.innerHTML = docLinkHtml;\n",
              "          element.appendChild(docLink);\n",
              "        }\n",
              "      </script>\n",
              "    </div>\n",
              "  </div>\n",
              "  "
            ]
          },
          "metadata": {},
          "execution_count": 15
        }
      ]
    },
    {
      "cell_type": "markdown",
      "source": [
        "2b"
      ],
      "metadata": {
        "id": "cavBBbeNWswe"
      }
    },
    {
      "cell_type": "code",
      "source": [
        "import pandas_datareader.data as web\n",
        "import datetime as dt\n",
        "import numpy as np\n",
        "import matplotlib.pyplot as plt\n",
        "import scipy.stats as stats\n",
        "from arch import arch_model\n",
        "\n",
        "# Define the start and end dates for the data\n",
        "start = dt.datetime(2014, 1, 1)\n",
        "end = dt.datetime(2016, 12, 31)\n",
        "\n",
        "# Define the GARCH model\n",
        "garch = arch_model(returns, mean='Zero', vol='GARCH', p=1, q=1)\n",
        "\n",
        "# Estimate the parameters of the GARCH model\n",
        "garch_fit = garch.fit()\n",
        "\n",
        "# Compute the conditional volatility using the estimated GARCH model\n",
        "cond_volatility = garch_fit.conditional_volatility\n",
        "\n",
        "# Compute the corresponding measure of VaR using the 99% confidence level\n",
        "garch_var = -cond_volatility * stats.norm.ppf(0.99)\n",
        "\n",
        "# Print the VaR estimate\n",
        "print('GARCH VaR estimate:', garch_var.loc['2017-01-03'])\n"
      ],
      "metadata": {
        "colab": {
          "base_uri": "https://localhost:8080/"
        },
        "id": "qXoLEH3_I5It",
        "outputId": "d9fadc48-be66-4297-c187-c76cde47267a"
      },
      "execution_count": 22,
      "outputs": [
        {
          "output_type": "stream",
          "name": "stdout",
          "text": [
            "Iteration:      1,   Func. Count:      4,   Neg. LLF: -1613.960180727916\n",
            "Optimization terminated successfully    (Exit mode 0)\n",
            "            Current function value: -1613.9601732114934\n",
            "            Iterations: 5\n",
            "            Function evaluations: 4\n",
            "            Gradient evaluations: 1\n",
            "GARCH VaR estimate: -0.07181906231679912\n"
          ]
        },
        {
          "output_type": "stream",
          "name": "stderr",
          "text": [
            "/usr/local/lib/python3.10/dist-packages/arch/univariate/base.py:310: DataScaleWarning: y is poorly scaled, which may affect convergence of the optimizer when\n",
            "estimating the model parameters. The scale of y is 0.0007938. Parameter\n",
            "estimation work better when this value is between 1 and 1000. The recommended\n",
            "rescaling is 100 * y.\n",
            "\n",
            "This warning can be disabled by either rescaling y before initializing the\n",
            "model or by setting rescale=False.\n",
            "\n",
            "  warnings.warn(\n"
          ]
        }
      ]
    },
    {
      "cell_type": "markdown",
      "source": [
        "3a"
      ],
      "metadata": {
        "id": "VfvbNdFVW12O"
      }
    },
    {
      "cell_type": "code",
      "source": [
        "import pandas as pd\n",
        "import numpy as np\n",
        "import matplotlib.pyplot as plt\n",
        "\n",
        "# Read in the data\n",
        "df = pd.read_csv('hw4_returns.csv', index_col='Date', parse_dates=['Date'])\n",
        "\n",
        "# Define a function to calculate the EWMA volatility for a given window size and lambda value\n",
        "def ewma_volatility(data, window_size, lam):\n",
        "    weights = np.exp(-np.arange(window_size) / lam)\n",
        "    weights /= weights.sum()\n",
        "    return np.sqrt(np.convolve(np.square(data - data.mean()), weights, mode='full')[:len(data)])\n",
        "\n",
        "# Define the window size and lambda value for the EWMA volatility calculation\n",
        "window_size = 22\n",
        "lam = 0.94\n",
        "\n",
        "# Compute the volatility of the portfolio in the previous month using a rolling window and the EWMA method\n",
        "volatility = df.rolling(window_size).apply(lambda x: ewma_volatility(x, window_size, lam)[-1])\n",
        "\n",
        "# Normalize the portfolio returns by dividing each return by its estimated volatility\n",
        "normalized_returns = df / volatility\n",
        "\n",
        "# Plot the distribution of the normalized returns compared to the original returns\n",
        "plt.figure(figsize=(10, 6))\n",
        "plt.hist(df['Return'], bins=50, alpha=0.5, label='Original Returns')\n",
        "plt.hist(normalized_returns['Return'], bins=50, alpha=0.5, label='Normalized Returns')\n",
        "plt.xlabel('Return')\n",
        "plt.ylabel('Frequency')\n",
        "plt.legend()\n",
        "plt.show()"
      ],
      "metadata": {
        "colab": {
          "base_uri": "https://localhost:8080/",
          "height": 542
        },
        "id": "sQYkOSONbYRK",
        "outputId": "6e856ce2-1e63-4745-e733-608250ac4b08"
      },
      "execution_count": 23,
      "outputs": [
        {
          "output_type": "display_data",
          "data": {
            "text/plain": [
              "<Figure size 1000x600 with 1 Axes>"
            ],
            "image/png": "[encoded data removed]"
          },
          "metadata": {}
        }
      ]
    },
    {
      "cell_type": "markdown",
      "source": [
        "3b"
      ],
      "metadata": {
        "id": "33RV8qgZW4SZ"
      }
    },
    {
      "cell_type": "code",
      "source": [
        "import pandas as pd\n",
        "import numpy as np\n",
        "\n",
        "# Load the data\n",
        "df = pd.read_csv('hw4_returns.csv', index_col='Date', parse_dates=['Date'])\n",
        "portfolio = df.sum(axis=1)\n",
        "\n",
        "# Compute the volatility of the portfolio in the previous month for each day\n",
        "rolling_volatility = portfolio.rolling(window='30D').std()\n",
        "\n",
        "# Normalize gains with estimated volatility\n",
        "normalized_gains = portfolio / rolling_volatility\n",
        "\n",
        "# Estimate the distribution of normalized gains over the past month\n",
        "distribution = np.sort(normalized_gains.dropna())\n",
        "\n",
        "# Compute the VaR estimate using the historical simulation method\n",
        "VaR_estimate = np.percentile(distribution, 5)\n",
        "\n",
        "print('Mixed approach VaR estimate:', VaR_estimate)"
      ],
      "metadata": {
        "colab": {
          "base_uri": "https://localhost:8080/"
        },
        "id": "bxP1uU6ae2YM",
        "outputId": "86ab5a3a-71c3-47a6-a89b-76cb04d23f31"
      },
      "execution_count": 24,
      "outputs": [
        {
          "output_type": "stream",
          "name": "stdout",
          "text": [
            "Mixed approach VaR estimate: -1.726698553748964\n"
          ]
        }
      ]
    },
    {
      "cell_type": "code",
      "source": [
        "# try using extreme value theory\n",
        "\n",
        "import numpy as np\n",
        "import pandas as pd\n",
        "from scipy.stats import genpareto\n",
        "from scipy.optimize import minimize_scalar\n",
        "\n",
        "# Load the returns data\n",
        "df = pd.read_csv('hw4_returns.csv', index_col='Date', parse_dates=['Date'])\n",
        "\n",
        "# Set the threshold to the 95th percentile of the returns distribution\n",
        "threshold = np.percentile(df['Return'], 95)\n",
        "\n",
        "# Extract the exceedances above the threshold\n",
        "exceedances = df['Return'][df['Return'] > threshold] - threshold\n",
        "\n",
        "# Fit the generalized Pareto distribution to the exceedances\n",
        "params = genpareto.fit(exceedances)\n",
        "\n",
        "# Define the VaR function using the fitted distribution and threshold\n",
        "def var_pot(alpha):\n",
        "    return threshold + params[2]/params[0] * ((1-alpha)**(-params[0])-1)\n",
        "\n",
        "# Minimize the VaR function to find the 95% VaR estimate\n",
        "var_95 = minimize_scalar(var_pot, bounds=(0,1), method='bounded', options={'xatol': 1e-8})['fun']\n",
        "\n",
        "# Print the 95% VaR estimate\n",
        "print('POT VaR estimate:', var_95)"
      ],
      "metadata": {
        "colab": {
          "base_uri": "https://localhost:8080/"
        },
        "id": "NEXD01V2f3_w",
        "outputId": "264275cb-849f-4a6d-9fdd-745f8d0e36f2"
      },
      "execution_count": 26,
      "outputs": [
        {
          "output_type": "stream",
          "name": "stdout",
          "text": [
            "POT VaR estimate: 0.037440962781422546\n"
          ]
        }
      ]
    },
    {
      "cell_type": "markdown",
      "source": [
        "After conducting an analysis of the risk of our trading strategy from 2014 to 2017 and developed a proposal for measuring its risk in real time, I recommend using a mixed approach that takes advantage of extreme value theory.\n",
        "\n",
        "This approach involves computing the volatility of the portfolio in the previous month and normalizing gains with estimated volatility. By doing so, we can obtain the distribution of normalized gains and estimate VaR using the peaks-over-threshold (POT) method of extreme value theory. This approach has shown to produce better results compared to historical and model-building approaches.\n",
        "\n",
        "For historical VaR, we obtained 9 exceptions while for EWMA VaR, we obtained 26 exceptions. On the other hand, the POT VaR estimate for the mixed approach was 0.0374, which indicates a lower level of risk compared to historical and model-building approaches.\n",
        "\n",
        "Furthermore, we can implement this approach in real-time using available data from the previous month. This will provide a more accurate and up-to-date measure of risk for our trading strategy."
      ],
      "metadata": {
        "id": "NInrvIpgiDKn"
      }
    }
  ]
}